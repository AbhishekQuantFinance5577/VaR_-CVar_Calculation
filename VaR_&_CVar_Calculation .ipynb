{
 "cells": [
  {
   "cell_type": "markdown",
   "id": "f5355b2a",
   "metadata": {},
   "source": [
    "# Question 1 Part A1"
   ]
  },
  {
   "cell_type": "code",
   "execution_count": 1,
   "id": "2875ff8a",
   "metadata": {},
   "outputs": [],
   "source": [
    "import pandas as pd\n",
    "import matplotlib.pyplot as plt\n",
    "import numpy as np\n",
    "import seaborn as sns\n",
    "import scipy.stats as stats\n",
    "import sklearn\n",
    "import statsmodels.api as sm\n",
    "from scipy.stats import skew, kurtosis\n",
    "from scipy.stats import norm\n",
    "from sklearn.neighbors import KernelDensity"
   ]
  },
  {
   "cell_type": "code",
   "execution_count": 4,
   "id": "0817f7e4",
   "metadata": {},
   "outputs": [],
   "source": [
    "xom = pd.read_csv(\"XOM.csv\")\n",
    "inc = pd.read_csv(\"INTC.csv\")\n",
    "btc = pd.read_csv(\"BTC-USD.csv\")\n",
    "eth = pd.read_csv(\"ETH-USD.csv\")"
   ]
  },
  {
   "cell_type": "markdown",
   "id": "179cd2f8",
   "metadata": {},
   "source": [
    "# Simple_Return"
   ]
  },
  {
   "cell_type": "code",
   "execution_count": 5,
   "id": "d66f5292",
   "metadata": {},
   "outputs": [
    {
     "name": "stdout",
     "output_type": "stream",
     "text": [
      "1      0.010297\n",
      "2     -0.005537\n",
      "3      0.012274\n",
      "4      0.003875\n",
      "5     -0.001494\n",
      "         ...   \n",
      "303    0.043851\n",
      "304   -0.009528\n",
      "305   -0.016715\n",
      "306   -0.049637\n",
      "307    0.008824\n",
      "Name: Adj Close, Length: 307, dtype: float64 1      0.000188\n",
      "2     -0.005259\n",
      "3      0.006420\n",
      "4      0.012008\n",
      "5     -0.004820\n",
      "         ...   \n",
      "303    0.008450\n",
      "304    0.007709\n",
      "305   -0.028937\n",
      "306   -0.011132\n",
      "307    0.023207\n",
      "Name: Adj Close, Length: 307, dtype: float64 1     -0.000859\n",
      "2      0.000971\n",
      "3      0.001245\n",
      "4      0.001252\n",
      "5     -0.004461\n",
      "         ...   \n",
      "303   -0.004974\n",
      "304    0.007062\n",
      "305    0.003827\n",
      "306    0.014302\n",
      "307   -0.017468\n",
      "Name: Adj Close, Length: 307, dtype: float64 1     -0.014221\n",
      "2      0.004557\n",
      "3     -0.002213\n",
      "4     -0.016393\n",
      "5     -0.014586\n",
      "         ...   \n",
      "303   -0.000739\n",
      "304    0.006754\n",
      "305    0.008710\n",
      "306    0.050149\n",
      "307   -0.015765\n",
      "Name: Adj Close, Length: 307, dtype: float64\n"
     ]
    }
   ],
   "source": [
    "xom_sr = (xom['Adj Close'].pct_change( )).dropna()\n",
    "inc_sr = (inc['Adj Close'].pct_change( )).dropna()\n",
    "btc_sr = (btc['Adj Close'].pct_change( )).dropna()\n",
    "eth_sr = (eth['Adj Close'].pct_change( )).dropna()\n",
    "print(xom_sr, inc_sr , btc_sr, eth_sr )"
   ]
  },
  {
   "cell_type": "markdown",
   "id": "7b5ea48e",
   "metadata": {},
   "source": [
    "# Mean"
   ]
  },
  {
   "cell_type": "code",
   "execution_count": 9,
   "id": "89c85858",
   "metadata": {},
   "outputs": [
    {
     "name": "stdout",
     "output_type": "stream",
     "text": [
      "-0.0014928160520567043 0.0008549693845107292 0.0006533601285297032 0.0027569344732307336\n"
     ]
    }
   ],
   "source": [
    "xom_srm = xom_sr.mean()\n",
    "inc_srm = inc_sr.mean()\n",
    "eth_srm = eth_sr.mean()\n",
    "btc_srm = btc_sr.mean()\n",
    "print(xom_srm, inc_srm, eth_srm, btc_srm)"
   ]
  },
  {
   "cell_type": "markdown",
   "id": "fed0fedb",
   "metadata": {},
   "source": [
    "# Variance "
   ]
  },
  {
   "cell_type": "code",
   "execution_count": 10,
   "id": "740b156b",
   "metadata": {},
   "outputs": [
    {
     "name": "stdout",
     "output_type": "stream",
     "text": [
      "0.000596415002832669 0.0008430272021219894 0.0013726046106747425 0.0015579219979795084\n"
     ]
    }
   ],
   "source": [
    "xom_var = np.var(xom_sr)\n",
    "inc_var = np.var(inc_sr)\n",
    "btc_var = np.var(btc_sr)\n",
    "eth_var = np.var(eth_sr)\n",
    "print(xom_var , inc_var, btc_var, eth_var)"
   ]
  },
  {
   "cell_type": "markdown",
   "id": "bae478b8",
   "metadata": {},
   "source": [
    "# Standard Deviation "
   ]
  },
  {
   "cell_type": "code",
   "execution_count": 11,
   "id": "bf45c243",
   "metadata": {},
   "outputs": [
    {
     "name": "stdout",
     "output_type": "stream",
     "text": [
      "0.02442160934157839 0.02903493072356105 0.037048678932922054 0.03947052061956503\n"
     ]
    }
   ],
   "source": [
    "xom_sd = np.sqrt(xom_var)\n",
    "inc_sd = np.sqrt(inc_var)\n",
    "btc_sd = np.sqrt(btc_var)\n",
    "eth_sd = np.sqrt(eth_var)\n",
    "print(xom_sd, inc_sd, btc_sd, eth_sd)"
   ]
  },
  {
   "cell_type": "markdown",
   "id": "dea3a375",
   "metadata": {},
   "source": [
    "# Skewness"
   ]
  },
  {
   "cell_type": "code",
   "execution_count": 13,
   "id": "056c4a5e",
   "metadata": {},
   "outputs": [
    {
     "name": "stdout",
     "output_type": "stream",
     "text": [
      "-0.25962891670057886 0.32727656830030777 0.5916832600715433 -0.12705347532611336\n"
     ]
    }
   ],
   "source": [
    "from scipy.stats import skew, kurtosis\n",
    "xom_sk = skew(xom_sr)\n",
    "inc_sk = skew(inc_sr)\n",
    "btc_sk = skew(btc_sr)\n",
    "eth_sk = skew(eth_sr)\n",
    "print(xom_sk, inc_sk, btc_sk, eth_sk)"
   ]
  },
  {
   "cell_type": "markdown",
   "id": "d6c46e6f",
   "metadata": {},
   "source": [
    "# Kurtosis "
   ]
  },
  {
   "cell_type": "code",
   "execution_count": 14,
   "id": "7aaa0244",
   "metadata": {},
   "outputs": [
    {
     "name": "stdout",
     "output_type": "stream",
     "text": [
      "7.707707066114644 12.829578216946436 4.35617279524545 3.2840608966180564\n"
     ]
    }
   ],
   "source": [
    "xom_ku = kurtosis(xom_sr)\n",
    "inc_ku = kurtosis(inc_sr)\n",
    "btc_ku = kurtosis(btc_sr)\n",
    "eth_ku = kurtosis(eth_sr)\n",
    "print(xom_ku, inc_ku, btc_ku, eth_ku)"
   ]
  },
  {
   "cell_type": "markdown",
   "id": "9c649ab6",
   "metadata": {},
   "source": [
    "Comment\n",
    "\n",
    "Mean - BTC and ETH have +ve daily mean returns which means that they had experienced a increase , growth in their prices on average . In case of stocks , INC has a +ve mean return indicating a growth in daily prices on average while XOM had negative mean return indicating that the its shares decreased on average daily .\n",
    "Variance and Standard deviation - We can see stocks have way lesser variance and standard deviation than cryptos indicatingthat cryptos are a lot volatile and risky to invest. inc is more volatile than xom , and eth is more volatile than btc.\n",
    "inc and btc have positive skewness , which means their distribution is skewed towards teh right meaning that there are more positive occurences while com and eth are negatively skewed , so they have more negative occureneces towards its tail.\n",
    "stockss have higher kurtosis than cryptos indicating that the stcoks have more extreme values than the cryptos.\n"
   ]
  },
  {
   "cell_type": "markdown",
   "id": "211987b3",
   "metadata": {},
   "source": [
    "Investment logic and Cross asset investment analysis\n",
    "\n",
    "Suppose I am an investor , while investing I will try to look at the risk return trade off when thinking of investing my money . as said with high returns come high risks that case can be seen here too. crypto currencies are very volatile but then they are also giving more returns . however , xom had a negative mean return and so it underperformed if we look at figures of other assets. the inc, eth, btc have positive mean returns butif we look at risk , eth and btc are way more volatile than the two stocks.\n",
    "indeed , if we invest in all the assets combined in form of a portfolio , or like we diversify the investmenst we make , we can mitigate risk and imporve profit. we shoud in all above mentioned but invest more in stocks as they have less risk ."
   ]
  },
  {
   "cell_type": "markdown",
   "id": "1a20aa36",
   "metadata": {},
   "source": [
    "# VaR"
   ]
  },
  {
   "cell_type": "code",
   "execution_count": 15,
   "id": "9bc78813",
   "metadata": {},
   "outputs": [
    {
     "name": "stdout",
     "output_type": "stream",
     "text": [
      "0.02152237514436752 0.025197067512154447 0.03454934115291597 0.03657830977311514\n"
     ]
    }
   ],
   "source": [
    "ci_1 = 0.90\n",
    "xom_valuear = - np.percentile(xom_sr, 100 - (ci_1 *100))\n",
    "inc_valuear = - np.percentile(inc_sr, 100 - (ci_1 *100))\n",
    "btc_valuear = - np.percentile(btc_sr, 100 - (ci_1 *100))\n",
    "eth_valuear = - np.percentile(eth_sr, 100 - (ci_1 *100))\n",
    "print(xom_valuear, inc_valuear, btc_valuear, eth_valuear)"
   ]
  },
  {
   "cell_type": "code",
   "execution_count": 16,
   "id": "b4d9ef28",
   "metadata": {},
   "outputs": [
    {
     "name": "stdout",
     "output_type": "stream",
     "text": [
      "0.04093398435274741 0.03814454070139597 0.04771958373728945 0.06602960640239905\n"
     ]
    }
   ],
   "source": [
    "ci_2 = 0.95\n",
    "xom_valuear2 = - np.percentile(xom_sr, 100 - (ci_2 *100))\n",
    "inc_valuear2 = - np.percentile(inc_sr, 100 - (ci_2 *100))\n",
    "btc_valuear2 = - np.percentile(btc_sr, 100 - (ci_2 *100))\n",
    "eth_valuear2 = - np.percentile(eth_sr, 100 - (ci_2 *100))\n",
    "print(xom_valuear2, inc_valuear2, btc_valuear2, eth_valuear2)"
   ]
  },
  {
   "cell_type": "code",
   "execution_count": 17,
   "id": "0d586a2c",
   "metadata": {},
   "outputs": [
    {
     "name": "stdout",
     "output_type": "stream",
     "text": [
      "0.093811436837397 0.08676886333874446 0.09948974845557945 0.1249462231421969\n"
     ]
    }
   ],
   "source": [
    "ci_3 = 0.99\n",
    "xom_valuear3 = - np.percentile(xom_sr, 100 - (ci_3 *100))\n",
    "inc_valuear3 = - np.percentile(inc_sr, 100 - (ci_3 *100))\n",
    "btc_valuear3 = - np.percentile(btc_sr, 100 - (ci_3 *100))\n",
    "eth_valuear3 = - np.percentile(eth_sr, 100 - (ci_3 *100))\n",
    "print(xom_valuear3, inc_valuear3, btc_valuear3, eth_valuear3)"
   ]
  },
  {
   "cell_type": "markdown",
   "id": "111a6a20",
   "metadata": {},
   "source": [
    "Comment\n",
    "\n",
    "we can see in each of the cases that as the confidence level increases , the VAR values also increases , this means that as the confidence value increase , the amount of maximum loss that an investor can expect to face more loss of the value of the asset , meaning higher potential losses .\n",
    "the investors need to consider the increase potential loss that they may face . but if we look at var figures of var , we come to know that the magnitude of var increase in inc is much greater than that of xom. thi smeans that there is higher risk , higher potential loss if we invest in INC .\n",
    "BTC AND eth also shows well increase in var and so we should be conservative while investing in this and properly evaluate these before doing so."
   ]
  },
  {
   "cell_type": "markdown",
   "id": "09720d7b",
   "metadata": {},
   "source": [
    "# CVar"
   ]
  },
  {
   "cell_type": "code",
   "execution_count": 19,
   "id": "dd023a68",
   "metadata": {},
   "outputs": [
    {
     "name": "stdout",
     "output_type": "stream",
     "text": [
      "-0.005893715141150202 -0.004553710522810588 -0.005669812929847833 -0.010248756103482469\n"
     ]
    }
   ],
   "source": [
    "# for 90 %\n",
    "xomcvar = np.mean(xom_sr[xom_sr <= xom_valuear])\n",
    "inccvar = np.mean(inc_sr[inc_sr <= inc_valuear])\n",
    "btccvar = np.mean(btc_sr[btc_sr <= btc_valuear])\n",
    "ethcvar = np.mean(eth_sr[eth_sr <= eth_valuear])\n",
    "print(xomcvar, inccvar, btccvar, ethcvar)"
   ]
  },
  {
   "cell_type": "code",
   "execution_count": 20,
   "id": "85ccba7b",
   "metadata": {},
   "outputs": [
    {
     "name": "stdout",
     "output_type": "stream",
     "text": [
      "-0.003993435426076067 -0.0032438113841958584 -0.00420190239245496 -0.003180037179869845\n"
     ]
    }
   ],
   "source": [
    "# for 95 %\n",
    "xomcvar2 = np.mean(xom_sr[xom_sr <= xom_valuear2])\n",
    "inccvar2 = np.mean(inc_sr[inc_sr <= inc_valuear2])\n",
    "btccvar2 = np.mean(btc_sr[btc_sr <= btc_valuear2])\n",
    "ethcvar2 = np.mean(eth_sr[eth_sr <= eth_valuear2])\n",
    "print(xomcvar2, inccvar2, btccvar2, ethcvar2)"
   ]
  },
  {
   "cell_type": "code",
   "execution_count": 21,
   "id": "2a94d875",
   "metadata": {},
   "outputs": [
    {
     "name": "stdout",
     "output_type": "stream",
     "text": [
      "-0.0022594148288429517 -0.00018149270791441275 -0.0009456217313628325 -0.00030699970851602907\n"
     ]
    }
   ],
   "source": [
    "# for 99 %\n",
    "xomcvar3 = np.mean(xom_sr[xom_sr <= xom_valuear3])\n",
    "inccvar3 = np.mean(inc_sr[inc_sr <= inc_valuear3])\n",
    "btccvar3 = np.mean(btc_sr[btc_sr <= btc_valuear3])\n",
    "ethcvar3 = np.mean(eth_sr[eth_sr <= eth_valuear3])\n",
    "print(xomcvar3, inccvar3, btccvar3, ethcvar3)"
   ]
  },
  {
   "cell_type": "markdown",
   "id": "e3eeb268",
   "metadata": {},
   "source": [
    "Comment\n",
    "\n",
    "Looking at the cvar figures , we can see that the cvar is definitely less than the var values . this suggests that the conditional expected losses at higher confidence intervals .\n",
    "investment logic - var measures most loss at a given confidence interval , however , cvar is an extension of var as it measures the average loss beyond the var threshold .\n",
    "lower cvar reveals that the risk of loss beyond threshold is less\n"
   ]
  }
 ],
 "metadata": {
  "kernelspec": {
   "display_name": "Python 3 (ipykernel)",
   "language": "python",
   "name": "python3"
  },
  "language_info": {
   "codemirror_mode": {
    "name": "ipython",
    "version": 3
   },
   "file_extension": ".py",
   "mimetype": "text/x-python",
   "name": "python",
   "nbconvert_exporter": "python",
   "pygments_lexer": "ipython3",
   "version": "3.11.4"
  }
 },
 "nbformat": 4,
 "nbformat_minor": 5
}
